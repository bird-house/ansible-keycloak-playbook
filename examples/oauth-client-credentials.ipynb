{
 "cells": [
  {
   "cell_type": "code",
   "execution_count": null,
   "metadata": {},
   "outputs": [],
   "source": [
    "import os\n",
    "import requests\n",
    "from oauthlib.oauth2 import BackendApplicationClient\n",
    "from requests_oauthlib import OAuth2Session\n",
    "import jwt"
   ]
  },
  {
   "cell_type": "code",
   "execution_count": null,
   "metadata": {},
   "outputs": [],
   "source": [
    "os.environ['OAUTHLIB_INSECURE_TRANSPORT'] = '1'"
   ]
  },
  {
   "cell_type": "markdown",
   "metadata": {},
   "source": [
    "### Configuration"
   ]
  },
  {
   "cell_type": "code",
   "execution_count": null,
   "metadata": {},
   "outputs": [],
   "source": [
    "client_id = 'demo'\n",
    "client_secret = '9c19957b-bfcf-4e40-be21-31a690b203ac'\n",
    "token_url = \"http://localhost:8080/auth/realms/demo/protocol/openid-connect/token\"\n",
    "introspect_url = 'http://localhost:8080/auth/realms/demo/protocol/openid-connect/token/introspect'\n",
    "secret = 'MIIBIjANBgkqhkiG9w0BAQEFAAOCAQ8AMIIBCgKCAQEA1TBs/YQnaWMlPewwrCiOPV9blucK561f+J33BF3z+C/8SgoWeYlzuiWYkkN1hGWyVCS+fsUoCnyqjGVYwqpeIODEtVCxZNRgSsGoYLemOFpbGyBCQaDijRpXIXFzg0/uSp7WZv/Sd1b2slJoPYEw0ol725k3YZkwveDTeW5np8WQscI51ix3gcEBMq76Iw7/MTaCSWU49Tka6RwFbs1H5SBtOCCShIjh2SkyCx4MVEjUl9JvMaF29R+DF3AsCiu8e2CH0y4KndBZ9aqcdzMZrc/B91UW4Eva0maZmBpxKNQZcgYLbZrdL4DBi091Fp0nUZwSks6zR7W2ArvzppvprwIDAQAB'\n",
    "public_key = '-----BEGIN PUBLIC KEY-----\\n{}\\n-----END PUBLIC KEY-----'.format(secret)\n"
   ]
  },
  {
   "cell_type": "markdown",
   "metadata": {},
   "source": [
    "### Get Token using client_credentials grant type"
   ]
  },
  {
   "cell_type": "code",
   "execution_count": null,
   "metadata": {},
   "outputs": [],
   "source": [
    "client = BackendApplicationClient(client_id=client_id)\n",
    "oauth = OAuth2Session(client=client)\n",
    "token = oauth.fetch_token(\n",
    "    token_url,\n",
    "    client_id=client_id,\n",
    "    client_secret=client_secret,)\n",
    "token"
   ]
  },
  {
   "cell_type": "code",
   "execution_count": null,
   "metadata": {},
   "outputs": [],
   "source": [
    "token['access_token']"
   ]
  },
  {
   "cell_type": "markdown",
   "metadata": {},
   "source": [
    "### Introspect token"
   ]
  },
  {
   "cell_type": "code",
   "execution_count": null,
   "metadata": {},
   "outputs": [],
   "source": [
    "payload = {\n",
    "    'client_secret': client_secret,\n",
    "    'client_id': client_id,\n",
    "    'token': token['access_token']\n",
    "}"
   ]
  },
  {
   "cell_type": "code",
   "execution_count": null,
   "metadata": {},
   "outputs": [],
   "source": [
    "response = requests.post(introspect_url, data=payload).json()\n",
    "response\n"
   ]
  },
  {
   "cell_type": "code",
   "execution_count": null,
   "metadata": {},
   "outputs": [],
   "source": [
    "response['active']"
   ]
  },
  {
   "cell_type": "markdown",
   "metadata": {},
   "source": [
    "### Validate Token"
   ]
  },
  {
   "cell_type": "code",
   "execution_count": null,
   "metadata": {},
   "outputs": [],
   "source": [
    "jwt.decode(token['access_token'], public_key, audience='account', verify=True, algorithms=['RS256'])"
   ]
  }
 ],
 "metadata": {
  "kernelspec": {
   "display_name": "Python 3",
   "language": "python",
   "name": "python3"
  },
  "language_info": {
   "codemirror_mode": {
    "name": "ipython",
    "version": 3
   },
   "file_extension": ".py",
   "mimetype": "text/x-python",
   "name": "python",
   "nbconvert_exporter": "python",
   "pygments_lexer": "ipython3",
   "version": "3.7.4"
  }
 },
 "nbformat": 4,
 "nbformat_minor": 4
}
